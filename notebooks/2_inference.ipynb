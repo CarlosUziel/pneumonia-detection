{
 "cells": [
  {
   "attachments": {},
   "cell_type": "markdown",
   "metadata": {},
   "source": [
    "# Inference"
   ]
  },
  {
   "attachments": {},
   "cell_type": "markdown",
   "metadata": {},
   "source": [
    "### Imports"
   ]
  },
  {
   "cell_type": "code",
   "execution_count": null,
   "metadata": {},
   "outputs": [],
   "source": [
    "import sys\n",
    "import numpy as np\n",
    "import pandas as pd\n",
    "import pydicom\n",
    "import logging\n",
    "import tensorflow as tf\n",
    "from typing import Tuple, Dict, Optional, Union\n",
    "from pathlib import Path\n",
    "\n",
    "%matplotlib inline\n",
    "import matplotlib.pyplot as plt\n",
    "import keras"
   ]
  },
  {
   "cell_type": "code",
   "execution_count": null,
   "metadata": {},
   "outputs": [],
   "source": [
    "src_path: str = \"../src\"\n",
    "sys.path.append(src_path)"
   ]
  },
  {
   "cell_type": "code",
   "execution_count": null,
   "metadata": {},
   "outputs": [],
   "source": [
    "logging.basicConfig(force=True)\n",
    "logging.getLogger().setLevel(logging.INFO)"
   ]
  },
  {
   "cell_type": "code",
   "execution_count": null,
   "metadata": {},
   "outputs": [],
   "source": [
    "# optinally randomly sample this amount of images for training\n",
    "IMG_SIZE: int = 260  # for EfficientNetB2\n",
    "DATA_ROOT: Path = Path(\"../data\")\n",
    "DICOM_ROOT: Path = DATA_ROOT.joinpath(\"test_dicom\")\n",
    "OUTPUTS_DIR: Path = DATA_ROOT.joinpath(\"model_outputs\")\n",
    "XRAY_IMAGES_ROOT: Path = Path(\"/home/uziel/Downloads/nih_chest_x_rays\")\n",
    "CHECKPOINT_PATH: Path = OUTPUTS_DIR.joinpath(\"model_checkpoint\")\n",
    "MODEL_PATH: Path = OUTPUTS_DIR.joinpath(\"pneumonia_xray_classifier\")\n",
    "BEST_TH_PATH: Path = OUTPUTS_DIR.joinpath(\"best_th.txt\")"
   ]
  },
  {
   "attachments": {},
   "cell_type": "markdown",
   "metadata": {},
   "source": [
    "## 1. Load and pre-process test DICOM images"
   ]
  },
  {
   "cell_type": "code",
   "execution_count": null,
   "metadata": {},
   "outputs": [],
   "source": [
    "# This function reads in a .dcm file, checks the important fields for our device,\n",
    "# and returns a numpy array of just the imaging data\n",
    "def check_dicom(dicom_file: Path) -> Union[None, Tuple[np.array, bool]]:\n",
    "    \"\"\"Load and check the validity of a DICOM file.\n",
    "\n",
    "    Args:\n",
    "        dicom_file: Path to a DICOM file.\n",
    "\n",
    "    Return:\n",
    "        Pixel data of DICOM image.\n",
    "        A bool indicating if the image contains pneumonia.\n",
    "    \"\"\"\n",
    "    ds = pydicom.dcmread(dicom_file)\n",
    "    modality, body_part, label = (\n",
    "        ds[\"Modality\"].value,\n",
    "        ds[\"BodyPartExamined\"].value,\n",
    "        ds[\"StudyDescription\"].value,\n",
    "    )\n",
    "\n",
    "    if modality != \"DX\" or body_part != \"CHEST\":\n",
    "        logging.error(f\"Modality ({modality}) or body part ({body_part}) are invalid.\")\n",
    "        return None\n",
    "\n",
    "    logging.info(\n",
    "        \"Image loaded successfully. \"\n",
    "        f\"Modality: {modality}. Body part: {body_part}. Label: {label}\"\n",
    "    )\n",
    "\n",
    "    return ds.pixel_array, \"pneumonia\" in label.lower()\n",
    "\n",
    "\n",
    "def preprocess_image(img: np.array) -> tf.Tensor:\n",
    "    \"\"\"Ensure the dicom image has three channels, as expected by the network.\n",
    "\n",
    "        NOTE: Further pre-processing steps are built-in model layers.\n",
    "\n",
    "    Args:\n",
    "        img: chest x-ray image as a 2D numpy array.\n",
    "\n",
    "    Returns:\n",
    "        Image with three channels.\n",
    "    \"\"\"\n",
    "    img = tf.expand_dims(img, -1)\n",
    "    return tf.reshape(tf.broadcast_to(img, (*img.shape[:2], 3)), (*img.shape[:2], 3))"
   ]
  },
  {
   "cell_type": "code",
   "execution_count": null,
   "metadata": {},
   "outputs": [],
   "source": [
    "loaded_dicoms = [check_dicom(dicom_file) for dicom_file in DICOM_ROOT.glob(\"*.dcm\")]\n",
    "dicom_dataset = [\n",
    "    (preprocess_image(dicom_data[0]), dicom_data[1])\n",
    "    for dicom_data in loaded_dicoms\n",
    "    if dicom_data is not None\n",
    "]"
   ]
  },
  {
   "attachments": {},
   "cell_type": "markdown",
   "metadata": {},
   "source": [
    "## 2. Load model and make predictions"
   ]
  },
  {
   "cell_type": "code",
   "execution_count": null,
   "metadata": {},
   "outputs": [],
   "source": [
    "def load_model(model_path: Path, checkpoint_path: Path):\n",
    "    \"\"\"Load model, its weights from a checkpoint and compile it.\n",
    "\n",
    "    Args:\n",
    "        model_path: Path to model.\n",
    "        checkpoint_path: Path to model checkpoint containing model weights.\n",
    "\n",
    "    Returns:\n",
    "        A compiled model.\n",
    "    \"\"\"\n",
    "    model = tf.keras.models.load_model(str(model_path))\n",
    "    model.load_weights(checkpoint_path)\n",
    "    model.compile()\n",
    "\n",
    "    return model\n",
    "\n",
    "\n",
    "def predict_image(model: tf.keras.Sequential, img: tf.Tensor, th: float) -> bool:\n",
    "    \"\"\"Use model to predict whether an image shows the presence of pneumonia.\n",
    "\n",
    "    Args:\n",
    "        model: A trained model to detect the presence of pneumonia on chest x-rays.\n",
    "        img: A chest x-ray image.\n",
    "        th: The threshold to determine the presence of pneumonia from the model\n",
    "            probability output.\n",
    "\n",
    "    Returns:\n",
    "        A bool indicating whether the image is predicted to show presence of penumonia\n",
    "            or not.\n",
    "    \"\"\"\n",
    "    return (model.predict(tf.expand_dims(img, 0)) > th)[0][0]"
   ]
  },
  {
   "cell_type": "code",
   "execution_count": null,
   "metadata": {},
   "outputs": [],
   "source": [
    "model = load_model(MODEL_PATH, CHECKPOINT_PATH)\n",
    "best_th = float(BEST_TH_PATH.read_text())"
   ]
  },
  {
   "cell_type": "code",
   "execution_count": null,
   "metadata": {},
   "outputs": [],
   "source": [
    "y_true_pred = [\n",
    "    (label, predict_image(model, img, best_th)) for img, label in dicom_dataset\n",
    "]"
   ]
  },
  {
   "attachments": {},
   "cell_type": "markdown",
   "metadata": {},
   "source": [
    "## 3. Evaluate predictions"
   ]
  },
  {
   "cell_type": "code",
   "execution_count": null,
   "metadata": {},
   "outputs": [],
   "source": [
    "pd.DataFrame(y_true_pred, columns=[\"Ground truth\", \"Predicted\"])"
   ]
  }
 ],
 "metadata": {
  "kernelspec": {
   "display_name": "penumonia_detection",
   "language": "python",
   "name": "python3"
  },
  "language_info": {
   "codemirror_mode": {
    "name": "ipython",
    "version": 3
   },
   "file_extension": ".py",
   "mimetype": "text/x-python",
   "name": "python",
   "nbconvert_exporter": "python",
   "pygments_lexer": "ipython3",
   "version": "3.10.8"
  },
  "vscode": {
   "interpreter": {
    "hash": "e5e89c2dba0891c091c7b7448c14a29b5352f8c3493df3e31a7175706b270a92"
   }
  }
 },
 "nbformat": 4,
 "nbformat_minor": 2
}
