{
 "cells": [
  {
   "attachments": {},
   "cell_type": "markdown",
   "metadata": {},
   "source": [
    "# Inference\n"
   ]
  },
  {
   "attachments": {},
   "cell_type": "markdown",
   "metadata": {},
   "source": [
    "### Imports\n"
   ]
  },
  {
   "cell_type": "code",
   "execution_count": null,
   "metadata": {},
   "outputs": [],
   "source": [
    "%load_ext autoreload\n",
    "%autoreload 2"
   ]
  },
  {
   "cell_type": "code",
   "execution_count": null,
   "metadata": {},
   "outputs": [],
   "source": [
    "import sys\n",
    "import logging\n",
    "import numpy as np\n",
    "import pandas as pd\n",
    "\n",
    "from pydicom import dcmread\n",
    "from typing import Tuple, Dict, Optional, Union\n",
    "from pathlib import Path\n",
    "from torch import Tensor\n",
    "from rich import traceback\n",
    "from torchvision.models import MobileNet_V3_Large_Weights\n",
    "\n",
    "%matplotlib inline\n",
    "import matplotlib.pyplot as plt"
   ]
  },
  {
   "cell_type": "code",
   "execution_count": null,
   "metadata": {},
   "outputs": [],
   "source": [
    "src_path: str = \"../src\"\n",
    "sys.path.append(src_path)\n",
    "_ = traceback.install()"
   ]
  },
  {
   "cell_type": "code",
   "execution_count": null,
   "metadata": {},
   "outputs": [],
   "source": [
    "from utils import dictify_dicom\n",
    "from datasets.pneumonia_dicom_dataset import PneumoniaDicomDataset\n",
    "from models.pneumonia_classifier import PneumoniaClassifier"
   ]
  },
  {
   "cell_type": "code",
   "execution_count": null,
   "metadata": {},
   "outputs": [],
   "source": [
    "logging.basicConfig(force=True)\n",
    "logging.getLogger().setLevel(logging.INFO)"
   ]
  },
  {
   "cell_type": "code",
   "execution_count": null,
   "metadata": {},
   "outputs": [],
   "source": [
    "REQUIRED_TRANSFORMS = MobileNet_V3_Large_Weights.DEFAULT.transforms()\n",
    "DATA_ROOT: Path = Path(\"../data\")\n",
    "DICOM_ROOT: Path = DATA_ROOT.joinpath(\"test_dicom\")\n",
    "OUTPUTS_DIR: Path = DATA_ROOT.joinpath(\"model_outputs\")\n",
    "XRAY_IMAGES_ROOT: Path = Path(\"/home/uziel/Downloads/nih_chest_x_rays\")\n",
    "LOGS_PATH: Path = OUTPUTS_DIR.joinpath(\"mobilenet_v3_large\")\n",
    "BEST_TH_PATH: Path = OUTPUTS_DIR.joinpath(\"best_th.txt\")"
   ]
  },
  {
   "attachments": {},
   "cell_type": "markdown",
   "metadata": {},
   "source": [
    "## 1. Load and pre-process test DICOM images\n"
   ]
  },
  {
   "cell_type": "code",
   "execution_count": null,
   "metadata": {},
   "outputs": [],
   "source": [
    "def gather_dicoms(dicom_root: Path) -> pd.DataFrame:\n",
    "    \"\"\"Gather dicom files, register metadata and dicom file path.\n",
    "\n",
    "    Args:\n",
    "        dicom_root: Directory under which all dicom files are located.\n",
    "\n",
    "    Returns:\n",
    "        A dataframe including metadata of each DICOM file.\n",
    "    \"\"\"\n",
    "    dicom_meta = {}\n",
    "    for dicom_file in dicom_root.glob(\"**/*.dcm\"):\n",
    "        dicom_meta[dicom_file.stem] = {\n",
    "            \"file_path\": str(dicom_file.resolve()),\n",
    "            **dictify_dicom(dcmread(dicom_file)),\n",
    "        }\n",
    "\n",
    "    dicom_meta_df = pd.DataFrame(dicom_meta).transpose()\n",
    "    dicom_meta_df.columns = [c.lower().replace(\" \", \"_\") for c in dicom_meta_df.columns]\n",
    "\n",
    "    return dicom_meta_df.drop(columns=\"pixel_data\").sort_index().rename_axis(\"id\")"
   ]
  },
  {
   "cell_type": "code",
   "execution_count": null,
   "metadata": {},
   "outputs": [],
   "source": [
    "dicoms_data = gather_dicoms(DICOM_ROOT)\n",
    "dicoms_data"
   ]
  },
  {
   "cell_type": "code",
   "execution_count": null,
   "metadata": {},
   "outputs": [],
   "source": [
    "dicoms_dataset = PneumoniaDicomDataset(dicoms_data, transform=REQUIRED_TRANSFORMS)"
   ]
  },
  {
   "attachments": {},
   "cell_type": "markdown",
   "metadata": {},
   "source": [
    "## 2. Load model and make predictions\n"
   ]
  },
  {
   "cell_type": "code",
   "execution_count": null,
   "metadata": {},
   "outputs": [],
   "source": [
    "def load_model(checkpoint_path: Path):\n",
    "    \"\"\"Load model, its weights from a checkpoint and compile it.\n",
    "\n",
    "    Args:\n",
    "        model_path: Path to model.\n",
    "        checkpoint_path: Path to model checkpoint containing model weights.\n",
    "\n",
    "    Returns:\n",
    "        A compiled model.\n",
    "    \"\"\"\n",
    "    model = PneumoniaClassifier.load_from_checkpoint(checkpoint_path)\n",
    "    model.eval()\n",
    "\n",
    "    return model\n",
    "\n",
    "\n",
    "def predict_image(model: PneumoniaClassifier, img: Tensor, th: float) -> bool:\n",
    "    \"\"\"Use model to predict whether an image shows the presence of pneumonia.\n",
    "\n",
    "    Args:\n",
    "        model: A trained model to detect the presence of pneumonia on chest x-rays.\n",
    "        img: A chest x-ray image.\n",
    "        th: The threshold to determine the presence of pneumonia from the model\n",
    "            probability output.\n",
    "\n",
    "    Returns:\n",
    "        A bool indicating whether the image is predicted to show presence of penumonia\n",
    "            or not.\n",
    "    \"\"\"\n",
    "    return (model(img.unsqueeze(0)) > th)[0][0]"
   ]
  },
  {
   "cell_type": "code",
   "execution_count": null,
   "metadata": {},
   "outputs": [],
   "source": [
    "model = load_model(list(LOGS_PATH.glob(\"**/*.ckpt\"))[0])\n",
    "best_th = float(BEST_TH_PATH.read_text())"
   ]
  },
  {
   "cell_type": "code",
   "execution_count": null,
   "metadata": {},
   "outputs": [],
   "source": [
    "y_true_pred = [\n",
    "    (label.bool(), predict_image(model, img, best_th)) for img, label in iter(dicoms_dataset)\n",
    "]"
   ]
  },
  {
   "attachments": {},
   "cell_type": "markdown",
   "metadata": {},
   "source": [
    "## 3. Evaluate predictions\n"
   ]
  },
  {
   "cell_type": "code",
   "execution_count": null,
   "metadata": {},
   "outputs": [],
   "source": [
    "pd.DataFrame(y_true_pred, columns=[\"Ground truth\", \"Predicted\"]).astype(bool)"
   ]
  }
 ],
 "metadata": {
  "kernelspec": {
   "display_name": "penumonia_detection",
   "language": "python",
   "name": "python3"
  },
  "language_info": {
   "codemirror_mode": {
    "name": "ipython",
    "version": 3
   },
   "file_extension": ".py",
   "mimetype": "text/x-python",
   "name": "python",
   "nbconvert_exporter": "python",
   "pygments_lexer": "ipython3",
   "version": "3.10.9"
  },
  "vscode": {
   "interpreter": {
    "hash": "e5e89c2dba0891c091c7b7448c14a29b5352f8c3493df3e31a7175706b270a92"
   }
  }
 },
 "nbformat": 4,
 "nbformat_minor": 2
}
