{
 "cells": [
  {
   "attachments": {},
   "cell_type": "markdown",
   "metadata": {},
   "source": [
    "# Exploratory Data Analysis (EDA)"
   ]
  },
  {
   "attachments": {},
   "cell_type": "markdown",
   "metadata": {},
   "source": [
    "### Imports"
   ]
  },
  {
   "cell_type": "code",
   "execution_count": 1,
   "metadata": {},
   "outputs": [],
   "source": [
    "import numpy as np\n",
    "import pandas as pd\n",
    "\n",
    "%matplotlib inline\n",
    "import matplotlib.pyplot as plt\n",
    "import seaborn as sns\n",
    "from pathlib import Path\n",
    "from PIL import Image"
   ]
  },
  {
   "cell_type": "code",
   "execution_count": 2,
   "metadata": {},
   "outputs": [],
   "source": [
    "random_seed: int = 8080\n",
    "data_root: Path = Path(\"../data\")\n",
    "xray_images_root: Path = Path(\"/home/uziel/Downloads/nih_chest_x_rays\")"
   ]
  },
  {
   "attachments": {},
   "cell_type": "markdown",
   "metadata": {},
   "source": [
    "## 1. Data Loading"
   ]
  },
  {
   "attachments": {},
   "cell_type": "markdown",
   "metadata": {},
   "source": [
    "### 1.1. Load samples annotation"
   ]
  },
  {
   "cell_type": "code",
   "execution_count": 3,
   "metadata": {},
   "outputs": [
    {
     "data": {
      "text/html": [
       "<div>\n",
       "<style scoped>\n",
       "    .dataframe tbody tr th:only-of-type {\n",
       "        vertical-align: middle;\n",
       "    }\n",
       "\n",
       "    .dataframe tbody tr th {\n",
       "        vertical-align: top;\n",
       "    }\n",
       "\n",
       "    .dataframe thead th {\n",
       "        text-align: right;\n",
       "    }\n",
       "</style>\n",
       "<table border=\"1\" class=\"dataframe\">\n",
       "  <thead>\n",
       "    <tr style=\"text-align: right;\">\n",
       "      <th></th>\n",
       "      <th>image_name</th>\n",
       "      <th>labels</th>\n",
       "      <th>follow_up_#</th>\n",
       "      <th>patient_id</th>\n",
       "      <th>patient_age</th>\n",
       "      <th>patient_gender</th>\n",
       "      <th>view_position</th>\n",
       "      <th>original_image_width</th>\n",
       "      <th>original_image_height</th>\n",
       "      <th>original_image_pixel_spacing_x</th>\n",
       "      <th>original_image_pixel_spacing_y</th>\n",
       "    </tr>\n",
       "  </thead>\n",
       "  <tbody>\n",
       "    <tr>\n",
       "      <th>0</th>\n",
       "      <td>00000001_000.png</td>\n",
       "      <td>Cardiomegaly</td>\n",
       "      <td>0</td>\n",
       "      <td>1</td>\n",
       "      <td>58</td>\n",
       "      <td>M</td>\n",
       "      <td>PA</td>\n",
       "      <td>2682</td>\n",
       "      <td>2749</td>\n",
       "      <td>0.143</td>\n",
       "      <td>0.143</td>\n",
       "    </tr>\n",
       "    <tr>\n",
       "      <th>1</th>\n",
       "      <td>00000001_001.png</td>\n",
       "      <td>Cardiomegaly|Emphysema</td>\n",
       "      <td>1</td>\n",
       "      <td>1</td>\n",
       "      <td>58</td>\n",
       "      <td>M</td>\n",
       "      <td>PA</td>\n",
       "      <td>2894</td>\n",
       "      <td>2729</td>\n",
       "      <td>0.143</td>\n",
       "      <td>0.143</td>\n",
       "    </tr>\n",
       "    <tr>\n",
       "      <th>2</th>\n",
       "      <td>00000001_002.png</td>\n",
       "      <td>Cardiomegaly|Effusion</td>\n",
       "      <td>2</td>\n",
       "      <td>1</td>\n",
       "      <td>58</td>\n",
       "      <td>M</td>\n",
       "      <td>PA</td>\n",
       "      <td>2500</td>\n",
       "      <td>2048</td>\n",
       "      <td>0.168</td>\n",
       "      <td>0.168</td>\n",
       "    </tr>\n",
       "    <tr>\n",
       "      <th>3</th>\n",
       "      <td>00000002_000.png</td>\n",
       "      <td>No Finding</td>\n",
       "      <td>0</td>\n",
       "      <td>2</td>\n",
       "      <td>81</td>\n",
       "      <td>M</td>\n",
       "      <td>PA</td>\n",
       "      <td>2500</td>\n",
       "      <td>2048</td>\n",
       "      <td>0.171</td>\n",
       "      <td>0.171</td>\n",
       "    </tr>\n",
       "    <tr>\n",
       "      <th>4</th>\n",
       "      <td>00000003_000.png</td>\n",
       "      <td>Hernia</td>\n",
       "      <td>0</td>\n",
       "      <td>3</td>\n",
       "      <td>81</td>\n",
       "      <td>F</td>\n",
       "      <td>PA</td>\n",
       "      <td>2582</td>\n",
       "      <td>2991</td>\n",
       "      <td>0.143</td>\n",
       "      <td>0.143</td>\n",
       "    </tr>\n",
       "    <tr>\n",
       "      <th>...</th>\n",
       "      <td>...</td>\n",
       "      <td>...</td>\n",
       "      <td>...</td>\n",
       "      <td>...</td>\n",
       "      <td>...</td>\n",
       "      <td>...</td>\n",
       "      <td>...</td>\n",
       "      <td>...</td>\n",
       "      <td>...</td>\n",
       "      <td>...</td>\n",
       "      <td>...</td>\n",
       "    </tr>\n",
       "    <tr>\n",
       "      <th>112115</th>\n",
       "      <td>00030801_001.png</td>\n",
       "      <td>Mass|Pneumonia</td>\n",
       "      <td>1</td>\n",
       "      <td>30801</td>\n",
       "      <td>39</td>\n",
       "      <td>M</td>\n",
       "      <td>PA</td>\n",
       "      <td>2048</td>\n",
       "      <td>2500</td>\n",
       "      <td>0.168</td>\n",
       "      <td>0.168</td>\n",
       "    </tr>\n",
       "    <tr>\n",
       "      <th>112116</th>\n",
       "      <td>00030802_000.png</td>\n",
       "      <td>No Finding</td>\n",
       "      <td>0</td>\n",
       "      <td>30802</td>\n",
       "      <td>29</td>\n",
       "      <td>M</td>\n",
       "      <td>PA</td>\n",
       "      <td>2048</td>\n",
       "      <td>2500</td>\n",
       "      <td>0.168</td>\n",
       "      <td>0.168</td>\n",
       "    </tr>\n",
       "    <tr>\n",
       "      <th>112117</th>\n",
       "      <td>00030803_000.png</td>\n",
       "      <td>No Finding</td>\n",
       "      <td>0</td>\n",
       "      <td>30803</td>\n",
       "      <td>42</td>\n",
       "      <td>F</td>\n",
       "      <td>PA</td>\n",
       "      <td>2048</td>\n",
       "      <td>2500</td>\n",
       "      <td>0.168</td>\n",
       "      <td>0.168</td>\n",
       "    </tr>\n",
       "    <tr>\n",
       "      <th>112118</th>\n",
       "      <td>00030804_000.png</td>\n",
       "      <td>No Finding</td>\n",
       "      <td>0</td>\n",
       "      <td>30804</td>\n",
       "      <td>30</td>\n",
       "      <td>F</td>\n",
       "      <td>PA</td>\n",
       "      <td>2048</td>\n",
       "      <td>2500</td>\n",
       "      <td>0.168</td>\n",
       "      <td>0.168</td>\n",
       "    </tr>\n",
       "    <tr>\n",
       "      <th>112119</th>\n",
       "      <td>00030805_000.png</td>\n",
       "      <td>No Finding</td>\n",
       "      <td>0</td>\n",
       "      <td>30805</td>\n",
       "      <td>27</td>\n",
       "      <td>M</td>\n",
       "      <td>PA</td>\n",
       "      <td>2048</td>\n",
       "      <td>2500</td>\n",
       "      <td>0.171</td>\n",
       "      <td>0.171</td>\n",
       "    </tr>\n",
       "  </tbody>\n",
       "</table>\n",
       "<p>112120 rows × 11 columns</p>\n",
       "</div>"
      ],
      "text/plain": [
       "              image_name                  labels  follow_up_#  patient_id  \\\n",
       "0       00000001_000.png            Cardiomegaly            0           1   \n",
       "1       00000001_001.png  Cardiomegaly|Emphysema            1           1   \n",
       "2       00000001_002.png   Cardiomegaly|Effusion            2           1   \n",
       "3       00000002_000.png              No Finding            0           2   \n",
       "4       00000003_000.png                  Hernia            0           3   \n",
       "...                  ...                     ...          ...         ...   \n",
       "112115  00030801_001.png          Mass|Pneumonia            1       30801   \n",
       "112116  00030802_000.png              No Finding            0       30802   \n",
       "112117  00030803_000.png              No Finding            0       30803   \n",
       "112118  00030804_000.png              No Finding            0       30804   \n",
       "112119  00030805_000.png              No Finding            0       30805   \n",
       "\n",
       "        patient_age patient_gender view_position  original_image_width  \\\n",
       "0                58              M            PA                  2682   \n",
       "1                58              M            PA                  2894   \n",
       "2                58              M            PA                  2500   \n",
       "3                81              M            PA                  2500   \n",
       "4                81              F            PA                  2582   \n",
       "...             ...            ...           ...                   ...   \n",
       "112115           39              M            PA                  2048   \n",
       "112116           29              M            PA                  2048   \n",
       "112117           42              F            PA                  2048   \n",
       "112118           30              F            PA                  2048   \n",
       "112119           27              M            PA                  2048   \n",
       "\n",
       "        original_image_height  original_image_pixel_spacing_x  \\\n",
       "0                        2749                           0.143   \n",
       "1                        2729                           0.143   \n",
       "2                        2048                           0.168   \n",
       "3                        2048                           0.171   \n",
       "4                        2991                           0.143   \n",
       "...                       ...                             ...   \n",
       "112115                   2500                           0.168   \n",
       "112116                   2500                           0.168   \n",
       "112117                   2500                           0.168   \n",
       "112118                   2500                           0.168   \n",
       "112119                   2500                           0.171   \n",
       "\n",
       "        original_image_pixel_spacing_y  \n",
       "0                                0.143  \n",
       "1                                0.143  \n",
       "2                                0.168  \n",
       "3                                0.171  \n",
       "4                                0.143  \n",
       "...                                ...  \n",
       "112115                           0.168  \n",
       "112116                           0.168  \n",
       "112117                           0.168  \n",
       "112118                           0.168  \n",
       "112119                           0.171  \n",
       "\n",
       "[112120 rows x 11 columns]"
      ]
     },
     "execution_count": 3,
     "metadata": {},
     "output_type": "execute_result"
    }
   ],
   "source": [
    "annot_df = pd.read_csv(data_root.joinpath(\"samples_annotation_2017.csv\"))\n",
    "annot_df"
   ]
  },
  {
   "attachments": {},
   "cell_type": "markdown",
   "metadata": {},
   "source": [
    "The column `labels` contains all the disease annotations."
   ]
  },
  {
   "attachments": {},
   "cell_type": "markdown",
   "metadata": {},
   "source": [
    "### 1.2. Replace `labels` column with dummy variables"
   ]
  },
  {
   "cell_type": "code",
   "execution_count": 4,
   "metadata": {},
   "outputs": [],
   "source": [
    "labels_dummies = annot_df[\"labels\"].str.get_dummies(\"|\")\n",
    "labels_dummies.columns = [c.replace(\" \", \"_\").lower() for c in labels_dummies]"
   ]
  },
  {
   "cell_type": "code",
   "execution_count": 5,
   "metadata": {},
   "outputs": [
    {
     "data": {
      "text/html": [
       "<div>\n",
       "<style scoped>\n",
       "    .dataframe tbody tr th:only-of-type {\n",
       "        vertical-align: middle;\n",
       "    }\n",
       "\n",
       "    .dataframe tbody tr th {\n",
       "        vertical-align: top;\n",
       "    }\n",
       "\n",
       "    .dataframe thead th {\n",
       "        text-align: right;\n",
       "    }\n",
       "</style>\n",
       "<table border=\"1\" class=\"dataframe\">\n",
       "  <thead>\n",
       "    <tr style=\"text-align: right;\">\n",
       "      <th></th>\n",
       "      <th>image_name</th>\n",
       "      <th>follow_up_#</th>\n",
       "      <th>patient_id</th>\n",
       "      <th>patient_age</th>\n",
       "      <th>patient_gender</th>\n",
       "      <th>view_position</th>\n",
       "      <th>original_image_width</th>\n",
       "      <th>original_image_height</th>\n",
       "      <th>original_image_pixel_spacing_x</th>\n",
       "      <th>original_image_pixel_spacing_y</th>\n",
       "      <th>...</th>\n",
       "      <th>emphysema</th>\n",
       "      <th>fibrosis</th>\n",
       "      <th>hernia</th>\n",
       "      <th>infiltration</th>\n",
       "      <th>mass</th>\n",
       "      <th>no_finding</th>\n",
       "      <th>nodule</th>\n",
       "      <th>pleural_thickening</th>\n",
       "      <th>pneumonia</th>\n",
       "      <th>pneumothorax</th>\n",
       "    </tr>\n",
       "  </thead>\n",
       "  <tbody>\n",
       "    <tr>\n",
       "      <th>0</th>\n",
       "      <td>00000001_000.png</td>\n",
       "      <td>0</td>\n",
       "      <td>1</td>\n",
       "      <td>58</td>\n",
       "      <td>M</td>\n",
       "      <td>PA</td>\n",
       "      <td>2682</td>\n",
       "      <td>2749</td>\n",
       "      <td>0.143</td>\n",
       "      <td>0.143</td>\n",
       "      <td>...</td>\n",
       "      <td>0</td>\n",
       "      <td>0</td>\n",
       "      <td>0</td>\n",
       "      <td>0</td>\n",
       "      <td>0</td>\n",
       "      <td>0</td>\n",
       "      <td>0</td>\n",
       "      <td>0</td>\n",
       "      <td>0</td>\n",
       "      <td>0</td>\n",
       "    </tr>\n",
       "    <tr>\n",
       "      <th>1</th>\n",
       "      <td>00000001_001.png</td>\n",
       "      <td>1</td>\n",
       "      <td>1</td>\n",
       "      <td>58</td>\n",
       "      <td>M</td>\n",
       "      <td>PA</td>\n",
       "      <td>2894</td>\n",
       "      <td>2729</td>\n",
       "      <td>0.143</td>\n",
       "      <td>0.143</td>\n",
       "      <td>...</td>\n",
       "      <td>1</td>\n",
       "      <td>0</td>\n",
       "      <td>0</td>\n",
       "      <td>0</td>\n",
       "      <td>0</td>\n",
       "      <td>0</td>\n",
       "      <td>0</td>\n",
       "      <td>0</td>\n",
       "      <td>0</td>\n",
       "      <td>0</td>\n",
       "    </tr>\n",
       "    <tr>\n",
       "      <th>2</th>\n",
       "      <td>00000001_002.png</td>\n",
       "      <td>2</td>\n",
       "      <td>1</td>\n",
       "      <td>58</td>\n",
       "      <td>M</td>\n",
       "      <td>PA</td>\n",
       "      <td>2500</td>\n",
       "      <td>2048</td>\n",
       "      <td>0.168</td>\n",
       "      <td>0.168</td>\n",
       "      <td>...</td>\n",
       "      <td>0</td>\n",
       "      <td>0</td>\n",
       "      <td>0</td>\n",
       "      <td>0</td>\n",
       "      <td>0</td>\n",
       "      <td>0</td>\n",
       "      <td>0</td>\n",
       "      <td>0</td>\n",
       "      <td>0</td>\n",
       "      <td>0</td>\n",
       "    </tr>\n",
       "    <tr>\n",
       "      <th>3</th>\n",
       "      <td>00000002_000.png</td>\n",
       "      <td>0</td>\n",
       "      <td>2</td>\n",
       "      <td>81</td>\n",
       "      <td>M</td>\n",
       "      <td>PA</td>\n",
       "      <td>2500</td>\n",
       "      <td>2048</td>\n",
       "      <td>0.171</td>\n",
       "      <td>0.171</td>\n",
       "      <td>...</td>\n",
       "      <td>0</td>\n",
       "      <td>0</td>\n",
       "      <td>0</td>\n",
       "      <td>0</td>\n",
       "      <td>0</td>\n",
       "      <td>1</td>\n",
       "      <td>0</td>\n",
       "      <td>0</td>\n",
       "      <td>0</td>\n",
       "      <td>0</td>\n",
       "    </tr>\n",
       "    <tr>\n",
       "      <th>4</th>\n",
       "      <td>00000003_000.png</td>\n",
       "      <td>0</td>\n",
       "      <td>3</td>\n",
       "      <td>81</td>\n",
       "      <td>F</td>\n",
       "      <td>PA</td>\n",
       "      <td>2582</td>\n",
       "      <td>2991</td>\n",
       "      <td>0.143</td>\n",
       "      <td>0.143</td>\n",
       "      <td>...</td>\n",
       "      <td>0</td>\n",
       "      <td>0</td>\n",
       "      <td>1</td>\n",
       "      <td>0</td>\n",
       "      <td>0</td>\n",
       "      <td>0</td>\n",
       "      <td>0</td>\n",
       "      <td>0</td>\n",
       "      <td>0</td>\n",
       "      <td>0</td>\n",
       "    </tr>\n",
       "    <tr>\n",
       "      <th>...</th>\n",
       "      <td>...</td>\n",
       "      <td>...</td>\n",
       "      <td>...</td>\n",
       "      <td>...</td>\n",
       "      <td>...</td>\n",
       "      <td>...</td>\n",
       "      <td>...</td>\n",
       "      <td>...</td>\n",
       "      <td>...</td>\n",
       "      <td>...</td>\n",
       "      <td>...</td>\n",
       "      <td>...</td>\n",
       "      <td>...</td>\n",
       "      <td>...</td>\n",
       "      <td>...</td>\n",
       "      <td>...</td>\n",
       "      <td>...</td>\n",
       "      <td>...</td>\n",
       "      <td>...</td>\n",
       "      <td>...</td>\n",
       "      <td>...</td>\n",
       "    </tr>\n",
       "    <tr>\n",
       "      <th>112115</th>\n",
       "      <td>00030801_001.png</td>\n",
       "      <td>1</td>\n",
       "      <td>30801</td>\n",
       "      <td>39</td>\n",
       "      <td>M</td>\n",
       "      <td>PA</td>\n",
       "      <td>2048</td>\n",
       "      <td>2500</td>\n",
       "      <td>0.168</td>\n",
       "      <td>0.168</td>\n",
       "      <td>...</td>\n",
       "      <td>0</td>\n",
       "      <td>0</td>\n",
       "      <td>0</td>\n",
       "      <td>0</td>\n",
       "      <td>1</td>\n",
       "      <td>0</td>\n",
       "      <td>0</td>\n",
       "      <td>0</td>\n",
       "      <td>1</td>\n",
       "      <td>0</td>\n",
       "    </tr>\n",
       "    <tr>\n",
       "      <th>112116</th>\n",
       "      <td>00030802_000.png</td>\n",
       "      <td>0</td>\n",
       "      <td>30802</td>\n",
       "      <td>29</td>\n",
       "      <td>M</td>\n",
       "      <td>PA</td>\n",
       "      <td>2048</td>\n",
       "      <td>2500</td>\n",
       "      <td>0.168</td>\n",
       "      <td>0.168</td>\n",
       "      <td>...</td>\n",
       "      <td>0</td>\n",
       "      <td>0</td>\n",
       "      <td>0</td>\n",
       "      <td>0</td>\n",
       "      <td>0</td>\n",
       "      <td>1</td>\n",
       "      <td>0</td>\n",
       "      <td>0</td>\n",
       "      <td>0</td>\n",
       "      <td>0</td>\n",
       "    </tr>\n",
       "    <tr>\n",
       "      <th>112117</th>\n",
       "      <td>00030803_000.png</td>\n",
       "      <td>0</td>\n",
       "      <td>30803</td>\n",
       "      <td>42</td>\n",
       "      <td>F</td>\n",
       "      <td>PA</td>\n",
       "      <td>2048</td>\n",
       "      <td>2500</td>\n",
       "      <td>0.168</td>\n",
       "      <td>0.168</td>\n",
       "      <td>...</td>\n",
       "      <td>0</td>\n",
       "      <td>0</td>\n",
       "      <td>0</td>\n",
       "      <td>0</td>\n",
       "      <td>0</td>\n",
       "      <td>1</td>\n",
       "      <td>0</td>\n",
       "      <td>0</td>\n",
       "      <td>0</td>\n",
       "      <td>0</td>\n",
       "    </tr>\n",
       "    <tr>\n",
       "      <th>112118</th>\n",
       "      <td>00030804_000.png</td>\n",
       "      <td>0</td>\n",
       "      <td>30804</td>\n",
       "      <td>30</td>\n",
       "      <td>F</td>\n",
       "      <td>PA</td>\n",
       "      <td>2048</td>\n",
       "      <td>2500</td>\n",
       "      <td>0.168</td>\n",
       "      <td>0.168</td>\n",
       "      <td>...</td>\n",
       "      <td>0</td>\n",
       "      <td>0</td>\n",
       "      <td>0</td>\n",
       "      <td>0</td>\n",
       "      <td>0</td>\n",
       "      <td>1</td>\n",
       "      <td>0</td>\n",
       "      <td>0</td>\n",
       "      <td>0</td>\n",
       "      <td>0</td>\n",
       "    </tr>\n",
       "    <tr>\n",
       "      <th>112119</th>\n",
       "      <td>00030805_000.png</td>\n",
       "      <td>0</td>\n",
       "      <td>30805</td>\n",
       "      <td>27</td>\n",
       "      <td>M</td>\n",
       "      <td>PA</td>\n",
       "      <td>2048</td>\n",
       "      <td>2500</td>\n",
       "      <td>0.171</td>\n",
       "      <td>0.171</td>\n",
       "      <td>...</td>\n",
       "      <td>0</td>\n",
       "      <td>0</td>\n",
       "      <td>0</td>\n",
       "      <td>0</td>\n",
       "      <td>0</td>\n",
       "      <td>1</td>\n",
       "      <td>0</td>\n",
       "      <td>0</td>\n",
       "      <td>0</td>\n",
       "      <td>0</td>\n",
       "    </tr>\n",
       "  </tbody>\n",
       "</table>\n",
       "<p>112120 rows × 25 columns</p>\n",
       "</div>"
      ],
      "text/plain": [
       "              image_name  follow_up_#  patient_id  patient_age patient_gender  \\\n",
       "0       00000001_000.png            0           1           58              M   \n",
       "1       00000001_001.png            1           1           58              M   \n",
       "2       00000001_002.png            2           1           58              M   \n",
       "3       00000002_000.png            0           2           81              M   \n",
       "4       00000003_000.png            0           3           81              F   \n",
       "...                  ...          ...         ...          ...            ...   \n",
       "112115  00030801_001.png            1       30801           39              M   \n",
       "112116  00030802_000.png            0       30802           29              M   \n",
       "112117  00030803_000.png            0       30803           42              F   \n",
       "112118  00030804_000.png            0       30804           30              F   \n",
       "112119  00030805_000.png            0       30805           27              M   \n",
       "\n",
       "       view_position  original_image_width  original_image_height  \\\n",
       "0                 PA                  2682                   2749   \n",
       "1                 PA                  2894                   2729   \n",
       "2                 PA                  2500                   2048   \n",
       "3                 PA                  2500                   2048   \n",
       "4                 PA                  2582                   2991   \n",
       "...              ...                   ...                    ...   \n",
       "112115            PA                  2048                   2500   \n",
       "112116            PA                  2048                   2500   \n",
       "112117            PA                  2048                   2500   \n",
       "112118            PA                  2048                   2500   \n",
       "112119            PA                  2048                   2500   \n",
       "\n",
       "        original_image_pixel_spacing_x  original_image_pixel_spacing_y  ...  \\\n",
       "0                                0.143                           0.143  ...   \n",
       "1                                0.143                           0.143  ...   \n",
       "2                                0.168                           0.168  ...   \n",
       "3                                0.171                           0.171  ...   \n",
       "4                                0.143                           0.143  ...   \n",
       "...                                ...                             ...  ...   \n",
       "112115                           0.168                           0.168  ...   \n",
       "112116                           0.168                           0.168  ...   \n",
       "112117                           0.168                           0.168  ...   \n",
       "112118                           0.168                           0.168  ...   \n",
       "112119                           0.171                           0.171  ...   \n",
       "\n",
       "        emphysema  fibrosis  hernia  infiltration  mass  no_finding  nodule  \\\n",
       "0               0         0       0             0     0           0       0   \n",
       "1               1         0       0             0     0           0       0   \n",
       "2               0         0       0             0     0           0       0   \n",
       "3               0         0       0             0     0           1       0   \n",
       "4               0         0       1             0     0           0       0   \n",
       "...           ...       ...     ...           ...   ...         ...     ...   \n",
       "112115          0         0       0             0     1           0       0   \n",
       "112116          0         0       0             0     0           1       0   \n",
       "112117          0         0       0             0     0           1       0   \n",
       "112118          0         0       0             0     0           1       0   \n",
       "112119          0         0       0             0     0           1       0   \n",
       "\n",
       "        pleural_thickening  pneumonia  pneumothorax  \n",
       "0                        0          0             0  \n",
       "1                        0          0             0  \n",
       "2                        0          0             0  \n",
       "3                        0          0             0  \n",
       "4                        0          0             0  \n",
       "...                    ...        ...           ...  \n",
       "112115                   0          1             0  \n",
       "112116                   0          0             0  \n",
       "112117                   0          0             0  \n",
       "112118                   0          0             0  \n",
       "112119                   0          0             0  \n",
       "\n",
       "[112120 rows x 25 columns]"
      ]
     },
     "execution_count": 5,
     "metadata": {},
     "output_type": "execute_result"
    }
   ],
   "source": [
    "annot_df = annot_df.join(labels_dummies).drop(columns=[\"labels\"])\n",
    "annot_df"
   ]
  },
  {
   "attachments": {},
   "cell_type": "markdown",
   "metadata": {},
   "source": [
    "## 2. Exploration of patients metadata"
   ]
  },
  {
   "attachments": {},
   "cell_type": "markdown",
   "metadata": {},
   "source": [
    "### Missing values"
   ]
  },
  {
   "cell_type": "code",
   "execution_count": 6,
   "metadata": {},
   "outputs": [
    {
     "data": {
      "text/plain": [
       "image_name                        0\n",
       "follow_up_#                       0\n",
       "patient_id                        0\n",
       "patient_age                       0\n",
       "patient_gender                    0\n",
       "view_position                     0\n",
       "original_image_width              0\n",
       "original_image_height             0\n",
       "original_image_pixel_spacing_x    0\n",
       "original_image_pixel_spacing_y    0\n",
       "atelectasis                       0\n",
       "cardiomegaly                      0\n",
       "consolidation                     0\n",
       "edema                             0\n",
       "effusion                          0\n",
       "emphysema                         0\n",
       "fibrosis                          0\n",
       "hernia                            0\n",
       "infiltration                      0\n",
       "mass                              0\n",
       "no_finding                        0\n",
       "nodule                            0\n",
       "pleural_thickening                0\n",
       "pneumonia                         0\n",
       "pneumothorax                      0\n",
       "dtype: int64"
      ]
     },
     "execution_count": 6,
     "metadata": {},
     "output_type": "execute_result"
    }
   ],
   "source": [
    "annot_df.isna().sum()"
   ]
  },
  {
   "attachments": {},
   "cell_type": "markdown",
   "metadata": {},
   "source": [
    "No missing values in our data."
   ]
  },
  {
   "attachments": {},
   "cell_type": "markdown",
   "metadata": {},
   "source": [
    "### Patient information"
   ]
  },
  {
   "cell_type": "code",
   "execution_count": 7,
   "metadata": {},
   "outputs": [
    {
     "data": {
      "text/plain": [
       "image_name                        112120\n",
       "follow_up_#                          184\n",
       "patient_id                         30805\n",
       "patient_age                          107\n",
       "patient_gender                         2\n",
       "view_position                          2\n",
       "original_image_width                 904\n",
       "original_image_height               1137\n",
       "original_image_pixel_spacing_x        23\n",
       "original_image_pixel_spacing_y        23\n",
       "atelectasis                            2\n",
       "cardiomegaly                           2\n",
       "consolidation                          2\n",
       "edema                                  2\n",
       "effusion                               2\n",
       "emphysema                              2\n",
       "fibrosis                               2\n",
       "hernia                                 2\n",
       "infiltration                           2\n",
       "mass                                   2\n",
       "no_finding                             2\n",
       "nodule                                 2\n",
       "pleural_thickening                     2\n",
       "pneumonia                              2\n",
       "pneumothorax                           2\n",
       "dtype: int64"
      ]
     },
     "execution_count": 7,
     "metadata": {},
     "output_type": "execute_result"
    }
   ],
   "source": [
    "annot_df.nunique()"
   ]
  },
  {
   "cell_type": "code",
   "execution_count": 8,
   "metadata": {},
   "outputs": [
    {
     "data": {
      "text/plain": [
       "3.639668884921279"
      ]
     },
     "execution_count": 8,
     "metadata": {},
     "output_type": "execute_result"
    }
   ],
   "source": [
    "annot_df.groupby(\"patient_id\")[\"image_name\"].count().mean()"
   ]
  },
  {
   "attachments": {},
   "cell_type": "markdown",
   "metadata": {},
   "source": [
    "We have information for 30,805 patients, with an average of 3 to 4 images available per patient."
   ]
  },
  {
   "cell_type": "code",
   "execution_count": 9,
   "metadata": {},
   "outputs": [
    {
     "data": {
      "text/plain": [
       "patient_id\n",
       "1        False\n",
       "2        False\n",
       "3        False\n",
       "4        False\n",
       "5        False\n",
       "         ...  \n",
       "30801     True\n",
       "30802    False\n",
       "30803    False\n",
       "30804    False\n",
       "30805    False\n",
       "Name: pneumonia, Length: 30805, dtype: bool"
      ]
     },
     "execution_count": 9,
     "metadata": {},
     "output_type": "execute_result"
    }
   ],
   "source": [
    "patient_had_pneumonia = annot_df.groupby(\"patient_id\")[\"pneumonia\"].sum().astype(bool)\n",
    "patient_had_pneumonia"
   ]
  },
  {
   "cell_type": "code",
   "execution_count": 10,
   "metadata": {},
   "outputs": [
    {
     "data": {
      "text/plain": [
       "0.03272196072066223"
      ]
     },
     "execution_count": 10,
     "metadata": {},
     "output_type": "execute_result"
    }
   ],
   "source": [
    "patient_had_pneumonia.sum() / len(patient_had_pneumonia)"
   ]
  },
  {
   "attachments": {},
   "cell_type": "markdown",
   "metadata": {},
   "source": [
    "Around 3% of all patients have had pneumonia."
   ]
  },
  {
   "attachments": {},
   "cell_type": "markdown",
   "metadata": {},
   "source": [
    "### Disease Labels"
   ]
  },
  {
   "cell_type": "code",
   "execution_count": 11,
   "metadata": {},
   "outputs": [
    {
     "name": "stdout",
     "output_type": "stream",
     "text": [
      "There are up to 15 possible disease labels (including no finding) annotated in each image:\n",
      "\n",
      "\t- atelectasis\n",
      "\t- cardiomegaly\n",
      "\t- consolidation\n",
      "\t- edema\n",
      "\t- effusion\n",
      "\t- emphysema\n",
      "\t- fibrosis\n",
      "\t- hernia\n",
      "\t- infiltration\n",
      "\t- mass\n",
      "\t- no_finding\n",
      "\t- nodule\n",
      "\t- pleural_thickening\n",
      "\t- pneumonia\n",
      "\t- pneumothorax\n"
     ]
    }
   ],
   "source": [
    "disease_labels = labels_dummies.columns\n",
    "\n",
    "print(\n",
    "    f\"There are up to {len(disease_labels)} possible disease labels \"\n",
    "    f\"(including no finding) annotated in each image:\"\n",
    ")\n",
    "print(\"\\n\\t- \" + \"\\n\\t- \".join(disease_labels))"
   ]
  },
  {
   "attachments": {},
   "cell_type": "markdown",
   "metadata": {},
   "source": [
    "#### How many annotations per disease?"
   ]
  },
  {
   "cell_type": "code",
   "execution_count": 12,
   "metadata": {},
   "outputs": [
    {
     "data": {
      "text/plain": [
       "no_finding            60361\n",
       "infiltration          19894\n",
       "effusion              13317\n",
       "atelectasis           11559\n",
       "nodule                 6331\n",
       "mass                   5782\n",
       "pneumothorax           5302\n",
       "consolidation          4667\n",
       "pleural_thickening     3385\n",
       "cardiomegaly           2776\n",
       "emphysema              2516\n",
       "edema                  2303\n",
       "fibrosis               1686\n",
       "pneumonia              1431\n",
       "hernia                  227\n",
       "dtype: int64"
      ]
     },
     "execution_count": 12,
     "metadata": {},
     "output_type": "execute_result"
    }
   ],
   "source": [
    "labels_dummies.sum().sort_values(ascending=False)"
   ]
  },
  {
   "attachments": {},
   "cell_type": "markdown",
   "metadata": {},
   "source": [
    "It can be clearly seen that pneumonia is the second least common labelled disease in our dataset."
   ]
  },
  {
   "attachments": {},
   "cell_type": "markdown",
   "metadata": {},
   "source": [
    "### Gender distribution among patients with and without pneumonia"
   ]
  },
  {
   "cell_type": "code",
   "execution_count": 13,
   "metadata": {},
   "outputs": [
    {
     "data": {
      "text/plain": [
       "M    0.56493\n",
       "F    0.43507\n",
       "Name: patient_gender, dtype: float64"
      ]
     },
     "execution_count": 13,
     "metadata": {},
     "output_type": "execute_result"
    }
   ],
   "source": [
    "annot_df[\"patient_gender\"].value_counts(normalize=True)"
   ]
  },
  {
   "attachments": {},
   "cell_type": "markdown",
   "metadata": {},
   "source": [
    "We have data from more males than females, but it's not terribly imbalanced."
   ]
  },
  {
   "attachments": {},
   "cell_type": "markdown",
   "metadata": {},
   "source": [
    "### Age distribution among patients with and without pneumonia"
   ]
  },
  {
   "cell_type": "code",
   "execution_count": 14,
   "metadata": {},
   "outputs": [
    {
     "data": {
      "text/plain": [
       "<Axes: ylabel='Frequency'>"
      ]
     },
     "execution_count": 14,
     "metadata": {},
     "output_type": "execute_result"
    },
    {
     "data": {
      "image/png": "[encoded data removed]",
      "text/plain": [
       "<Figure size 640x480 with 1 Axes>"
      ]
     },
     "metadata": {},
     "output_type": "display_data"
    }
   ],
   "source": [
    "annot_df[\"patient_age\"].plot(kind=\"hist\")"
   ]
  },
  {
   "cell_type": "code",
   "execution_count": 15,
   "metadata": {},
   "outputs": [
    {
     "data": {
      "text/plain": [
       "[412,\n",
       " 414,\n",
       " 148,\n",
       " 148,\n",
       " 150,\n",
       " 149,\n",
       " 152,\n",
       " 151,\n",
       " 411,\n",
       " 412,\n",
       " 413,\n",
       " 412,\n",
       " 153,\n",
       " 154,\n",
       " 155,\n",
       " 155]"
      ]
     },
     "execution_count": 15,
     "metadata": {},
     "output_type": "execute_result"
    }
   ],
   "source": [
    "annot_df[annot_df[\"patient_age\"] > 100][\"patient_age\"].tolist()"
   ]
  },
  {
   "attachments": {},
   "cell_type": "markdown",
   "metadata": {},
   "source": [
    "There seems to be some extreme values, probably due to human error. Since they are only a few, we remove them."
   ]
  },
  {
   "cell_type": "code",
   "execution_count": 16,
   "metadata": {},
   "outputs": [],
   "source": [
    "annot_df = annot_df[annot_df[\"patient_age\"] < 100]"
   ]
  },
  {
   "attachments": {},
   "cell_type": "markdown",
   "metadata": {},
   "source": [
    "Now we look at the age distribution across patients with and without pneumonia:"
   ]
  },
  {
   "cell_type": "code",
   "execution_count": 17,
   "metadata": {},
   "outputs": [
    {
     "data": {
      "text/plain": [
       "<seaborn.axisgrid.FacetGrid at 0x7f739db09d90>"
      ]
     },
     "execution_count": 17,
     "metadata": {},
     "output_type": "execute_result"
    },
    {
     "data": {
      "image/png": "[encoded data removed]",
      "text/plain": [
       "<Figure size 616.986x500 with 1 Axes>"
      ]
     },
     "metadata": {},
     "output_type": "display_data"
    }
   ],
   "source": [
    "sns.catplot(\n",
    "    annot_df,\n",
    "    y=\"patient_age\",\n",
    "    x=\"pneumonia\",\n",
    "    hue=\"patient_gender\",\n",
    "    bw=0.25,\n",
    "    cut=0,\n",
    "    split=True,\n",
    "    kind=\"violin\",\n",
    ")"
   ]
  },
  {
   "attachments": {},
   "cell_type": "markdown",
   "metadata": {},
   "source": [
    "Let's look at the quantile distribution:"
   ]
  },
  {
   "cell_type": "code",
   "execution_count": 18,
   "metadata": {},
   "outputs": [
    {
     "data": {
      "text/plain": [
       "10%    21.0\n",
       "20%    28.0\n",
       "30%    34.0\n",
       "40%    40.0\n",
       "50%    46.0\n",
       "60%    52.0\n",
       "70%    56.0\n",
       "80%    61.0\n",
       "90%    66.0\n",
       "dtype: float64"
      ]
     },
     "execution_count": 18,
     "metadata": {},
     "output_type": "execute_result"
    }
   ],
   "source": [
    "pneumonia_quantiles = pd.Series(\n",
    "    {\n",
    "        f\"{q*100:.0f}%\": annot_df[annot_df[\"pneumonia\"].astype(bool)][\n",
    "            \"patient_age\"\n",
    "        ].quantile(q)\n",
    "        for q in np.arange(0.1, 1, 0.1)\n",
    "    }\n",
    ")\n",
    "pneumonia_quantiles"
   ]
  },
  {
   "attachments": {},
   "cell_type": "markdown",
   "metadata": {},
   "source": [
    "It seems that most patients (80%) with pneumonia are between the early 20s and the mid 60s. We can expect our algorithm to perform better in this demographic. Outside of it, our model is expected to perform worse. Patients under the age of 20 are likely still growing and thus the size and shape of their chest cavity is likely different, which could impact the performance of the final algorithm. Similarly, the older patients are more likely to suffer from multiple diseases simultanously, making it harder to distinguish between pneumonia and any other disease."
   ]
  },
  {
   "attachments": {},
   "cell_type": "markdown",
   "metadata": {},
   "source": [
    "### View Position distribution among patients with and without pneumonia"
   ]
  },
  {
   "cell_type": "code",
   "execution_count": 19,
   "metadata": {},
   "outputs": [
    {
     "data": {
      "text/plain": [
       "PA    0.600326\n",
       "AP    0.399674\n",
       "Name: view_position, dtype: float64"
      ]
     },
     "execution_count": 19,
     "metadata": {},
     "output_type": "execute_result"
    }
   ],
   "source": [
    "annot_df[\"view_position\"].value_counts(normalize=True)"
   ]
  },
  {
   "attachments": {},
   "cell_type": "markdown",
   "metadata": {},
   "source": [
    "Our dataset contains both posterior-anterior (PA) and anterior-posterior (AP) projections.\n",
    "\n",
    "- **PA projection**: The standard chest radiograph is acquired with the patient standing up, and with the X-ray beam passing through the patient from Posterior to Anterior. The chest X-ray image produced is viewed as if looking at the patient from the front, face-to-face. The heart is on the right side of the image as you look at it.\n",
    "- **AP projection**: Sometimes it is not possible for radiographers to acquire a PA chest X-ray. This is usually because the patient is too unwell to stand. The chest X-ray image is still viewed as if looking at the patient face-to-face.\n",
    "\n",
    "Source and more information on [Radiology Masterclass](https://www.radiologymasterclass.co.uk/tutorials/chest/chest_quality/chest_xray_quality_projection)."
   ]
  },
  {
   "cell_type": "code",
   "execution_count": 20,
   "metadata": {},
   "outputs": [
    {
     "data": {
      "text/plain": [
       "<Axes: xlabel='pneumonia', ylabel='Percent'>"
      ]
     },
     "execution_count": 20,
     "metadata": {},
     "output_type": "execute_result"
    },
    {
     "data": {
      "image/png": "[encoded data removed]",
      "text/plain": [
       "<Figure size 640x480 with 1 Axes>"
      ]
     },
     "metadata": {},
     "output_type": "display_data"
    }
   ],
   "source": [
    "sns.histplot(\n",
    "    annot_df.astype({\"pneumonia\": str}),\n",
    "    x=\"pneumonia\",\n",
    "    hue=\"view_position\",\n",
    "    stat=\"percent\",\n",
    "    multiple=\"fill\",\n",
    ")"
   ]
  },
  {
   "cell_type": "code",
   "execution_count": 21,
   "metadata": {},
   "outputs": [
    {
     "data": {
      "text/html": [
       "<div>\n",
       "<style scoped>\n",
       "    .dataframe tbody tr th:only-of-type {\n",
       "        vertical-align: middle;\n",
       "    }\n",
       "\n",
       "    .dataframe tbody tr th {\n",
       "        vertical-align: top;\n",
       "    }\n",
       "\n",
       "    .dataframe thead th {\n",
       "        text-align: right;\n",
       "    }\n",
       "</style>\n",
       "<table border=\"1\" class=\"dataframe\">\n",
       "  <thead>\n",
       "    <tr style=\"text-align: right;\">\n",
       "      <th></th>\n",
       "      <th>Pneumonia presence</th>\n",
       "      <th>Pneumonia abscence</th>\n",
       "      <th>Difference</th>\n",
       "    </tr>\n",
       "  </thead>\n",
       "  <tbody>\n",
       "    <tr>\n",
       "      <th>AP</th>\n",
       "      <td>0.559441</td>\n",
       "      <td>0.397609</td>\n",
       "      <td>0.161831</td>\n",
       "    </tr>\n",
       "    <tr>\n",
       "      <th>PA</th>\n",
       "      <td>0.440559</td>\n",
       "      <td>0.602391</td>\n",
       "      <td>0.161831</td>\n",
       "    </tr>\n",
       "  </tbody>\n",
       "</table>\n",
       "</div>"
      ],
      "text/plain": [
       "    Pneumonia presence  Pneumonia abscence  Difference\n",
       "AP            0.559441            0.397609    0.161831\n",
       "PA            0.440559            0.602391    0.161831"
      ]
     },
     "execution_count": 21,
     "metadata": {},
     "output_type": "execute_result"
    }
   ],
   "source": [
    "view_positions_with = (\n",
    "    annot_df[annot_df[\"pneumonia\"] == 1][\"view_position\"]\n",
    "    .value_counts(normalize=True)\n",
    "    .rename(\"Pneumonia presence\")\n",
    ")\n",
    "view_positions_without = (\n",
    "    annot_df[annot_df[\"pneumonia\"] == 0][\"view_position\"]\n",
    "    .value_counts(normalize=True)\n",
    "    .rename(\"Pneumonia abscence\")\n",
    ")\n",
    "pd.concat(\n",
    "    [\n",
    "        view_positions_with,\n",
    "        view_positions_without,\n",
    "        abs(view_positions_without - view_positions_with).rename(\"Difference\"),\n",
    "    ],\n",
    "    axis=1,\n",
    ")"
   ]
  },
  {
   "attachments": {},
   "cell_type": "markdown",
   "metadata": {},
   "source": [
    "Since the main difference between AP and PA is heart size, this shouldn't affect our ability to detect pneumonia. Therefore, we expect this 16% difference to have no impact on final model performance."
   ]
  },
  {
   "attachments": {},
   "cell_type": "markdown",
   "metadata": {},
   "source": [
    "### Disease comorbidity"
   ]
  },
  {
   "cell_type": "code",
   "execution_count": 22,
   "metadata": {},
   "outputs": [
    {
     "data": {
      "text/html": [
       "<div>\n",
       "<style scoped>\n",
       "    .dataframe tbody tr th:only-of-type {\n",
       "        vertical-align: middle;\n",
       "    }\n",
       "\n",
       "    .dataframe tbody tr th {\n",
       "        vertical-align: top;\n",
       "    }\n",
       "\n",
       "    .dataframe thead th {\n",
       "        text-align: right;\n",
       "    }\n",
       "</style>\n",
       "<table border=\"1\" class=\"dataframe\">\n",
       "  <thead>\n",
       "    <tr style=\"text-align: right;\">\n",
       "      <th></th>\n",
       "      <th>atelectasis</th>\n",
       "      <th>cardiomegaly</th>\n",
       "      <th>consolidation</th>\n",
       "      <th>edema</th>\n",
       "      <th>effusion</th>\n",
       "      <th>emphysema</th>\n",
       "      <th>fibrosis</th>\n",
       "      <th>hernia</th>\n",
       "      <th>infiltration</th>\n",
       "      <th>mass</th>\n",
       "      <th>no_finding</th>\n",
       "      <th>nodule</th>\n",
       "      <th>pleural_thickening</th>\n",
       "      <th>pneumonia</th>\n",
       "      <th>pneumothorax</th>\n",
       "    </tr>\n",
       "  </thead>\n",
       "  <tbody>\n",
       "    <tr>\n",
       "      <th>atelectasis</th>\n",
       "      <td>0</td>\n",
       "      <td>370</td>\n",
       "      <td>1223</td>\n",
       "      <td>221</td>\n",
       "      <td>3275</td>\n",
       "      <td>424</td>\n",
       "      <td>220</td>\n",
       "      <td>40</td>\n",
       "      <td>3264</td>\n",
       "      <td>739</td>\n",
       "      <td>0</td>\n",
       "      <td>590</td>\n",
       "      <td>496</td>\n",
       "      <td>262</td>\n",
       "      <td>774</td>\n",
       "    </tr>\n",
       "    <tr>\n",
       "      <th>cardiomegaly</th>\n",
       "      <td>370</td>\n",
       "      <td>0</td>\n",
       "      <td>169</td>\n",
       "      <td>127</td>\n",
       "      <td>1063</td>\n",
       "      <td>44</td>\n",
       "      <td>52</td>\n",
       "      <td>7</td>\n",
       "      <td>587</td>\n",
       "      <td>102</td>\n",
       "      <td>0</td>\n",
       "      <td>108</td>\n",
       "      <td>111</td>\n",
       "      <td>41</td>\n",
       "      <td>49</td>\n",
       "    </tr>\n",
       "    <tr>\n",
       "      <th>consolidation</th>\n",
       "      <td>1223</td>\n",
       "      <td>169</td>\n",
       "      <td>0</td>\n",
       "      <td>162</td>\n",
       "      <td>1287</td>\n",
       "      <td>103</td>\n",
       "      <td>79</td>\n",
       "      <td>4</td>\n",
       "      <td>1221</td>\n",
       "      <td>610</td>\n",
       "      <td>0</td>\n",
       "      <td>428</td>\n",
       "      <td>251</td>\n",
       "      <td>123</td>\n",
       "      <td>223</td>\n",
       "    </tr>\n",
       "    <tr>\n",
       "      <th>edema</th>\n",
       "      <td>221</td>\n",
       "      <td>127</td>\n",
       "      <td>162</td>\n",
       "      <td>0</td>\n",
       "      <td>593</td>\n",
       "      <td>30</td>\n",
       "      <td>9</td>\n",
       "      <td>3</td>\n",
       "      <td>981</td>\n",
       "      <td>129</td>\n",
       "      <td>0</td>\n",
       "      <td>131</td>\n",
       "      <td>64</td>\n",
       "      <td>340</td>\n",
       "      <td>33</td>\n",
       "    </tr>\n",
       "    <tr>\n",
       "      <th>effusion</th>\n",
       "      <td>3275</td>\n",
       "      <td>1063</td>\n",
       "      <td>1287</td>\n",
       "      <td>593</td>\n",
       "      <td>0</td>\n",
       "      <td>359</td>\n",
       "      <td>188</td>\n",
       "      <td>21</td>\n",
       "      <td>4000</td>\n",
       "      <td>1254</td>\n",
       "      <td>0</td>\n",
       "      <td>912</td>\n",
       "      <td>849</td>\n",
       "      <td>268</td>\n",
       "      <td>996</td>\n",
       "    </tr>\n",
       "    <tr>\n",
       "      <th>emphysema</th>\n",
       "      <td>424</td>\n",
       "      <td>44</td>\n",
       "      <td>103</td>\n",
       "      <td>30</td>\n",
       "      <td>359</td>\n",
       "      <td>0</td>\n",
       "      <td>36</td>\n",
       "      <td>4</td>\n",
       "      <td>449</td>\n",
       "      <td>215</td>\n",
       "      <td>0</td>\n",
       "      <td>115</td>\n",
       "      <td>151</td>\n",
       "      <td>23</td>\n",
       "      <td>747</td>\n",
       "    </tr>\n",
       "    <tr>\n",
       "      <th>fibrosis</th>\n",
       "      <td>220</td>\n",
       "      <td>52</td>\n",
       "      <td>79</td>\n",
       "      <td>9</td>\n",
       "      <td>188</td>\n",
       "      <td>36</td>\n",
       "      <td>0</td>\n",
       "      <td>8</td>\n",
       "      <td>345</td>\n",
       "      <td>117</td>\n",
       "      <td>0</td>\n",
       "      <td>166</td>\n",
       "      <td>176</td>\n",
       "      <td>11</td>\n",
       "      <td>80</td>\n",
       "    </tr>\n",
       "    <tr>\n",
       "      <th>hernia</th>\n",
       "      <td>40</td>\n",
       "      <td>7</td>\n",
       "      <td>4</td>\n",
       "      <td>3</td>\n",
       "      <td>21</td>\n",
       "      <td>4</td>\n",
       "      <td>8</td>\n",
       "      <td>0</td>\n",
       "      <td>33</td>\n",
       "      <td>25</td>\n",
       "      <td>0</td>\n",
       "      <td>10</td>\n",
       "      <td>8</td>\n",
       "      <td>3</td>\n",
       "      <td>9</td>\n",
       "    </tr>\n",
       "    <tr>\n",
       "      <th>infiltration</th>\n",
       "      <td>3264</td>\n",
       "      <td>587</td>\n",
       "      <td>1221</td>\n",
       "      <td>981</td>\n",
       "      <td>4000</td>\n",
       "      <td>449</td>\n",
       "      <td>345</td>\n",
       "      <td>33</td>\n",
       "      <td>0</td>\n",
       "      <td>1157</td>\n",
       "      <td>0</td>\n",
       "      <td>1546</td>\n",
       "      <td>750</td>\n",
       "      <td>605</td>\n",
       "      <td>946</td>\n",
       "    </tr>\n",
       "    <tr>\n",
       "      <th>mass</th>\n",
       "      <td>739</td>\n",
       "      <td>102</td>\n",
       "      <td>610</td>\n",
       "      <td>129</td>\n",
       "      <td>1254</td>\n",
       "      <td>215</td>\n",
       "      <td>117</td>\n",
       "      <td>25</td>\n",
       "      <td>1157</td>\n",
       "      <td>0</td>\n",
       "      <td>0</td>\n",
       "      <td>906</td>\n",
       "      <td>451</td>\n",
       "      <td>71</td>\n",
       "      <td>431</td>\n",
       "    </tr>\n",
       "    <tr>\n",
       "      <th>no_finding</th>\n",
       "      <td>0</td>\n",
       "      <td>0</td>\n",
       "      <td>0</td>\n",
       "      <td>0</td>\n",
       "      <td>0</td>\n",
       "      <td>0</td>\n",
       "      <td>0</td>\n",
       "      <td>0</td>\n",
       "      <td>0</td>\n",
       "      <td>0</td>\n",
       "      <td>0</td>\n",
       "      <td>0</td>\n",
       "      <td>0</td>\n",
       "      <td>0</td>\n",
       "      <td>0</td>\n",
       "    </tr>\n",
       "    <tr>\n",
       "      <th>nodule</th>\n",
       "      <td>590</td>\n",
       "      <td>108</td>\n",
       "      <td>428</td>\n",
       "      <td>131</td>\n",
       "      <td>912</td>\n",
       "      <td>115</td>\n",
       "      <td>166</td>\n",
       "      <td>10</td>\n",
       "      <td>1546</td>\n",
       "      <td>906</td>\n",
       "      <td>0</td>\n",
       "      <td>0</td>\n",
       "      <td>411</td>\n",
       "      <td>70</td>\n",
       "      <td>341</td>\n",
       "    </tr>\n",
       "    <tr>\n",
       "      <th>pleural_thickening</th>\n",
       "      <td>496</td>\n",
       "      <td>111</td>\n",
       "      <td>251</td>\n",
       "      <td>64</td>\n",
       "      <td>849</td>\n",
       "      <td>151</td>\n",
       "      <td>176</td>\n",
       "      <td>8</td>\n",
       "      <td>750</td>\n",
       "      <td>451</td>\n",
       "      <td>0</td>\n",
       "      <td>411</td>\n",
       "      <td>0</td>\n",
       "      <td>48</td>\n",
       "      <td>289</td>\n",
       "    </tr>\n",
       "    <tr>\n",
       "      <th>pneumonia</th>\n",
       "      <td>262</td>\n",
       "      <td>41</td>\n",
       "      <td>123</td>\n",
       "      <td>340</td>\n",
       "      <td>268</td>\n",
       "      <td>23</td>\n",
       "      <td>11</td>\n",
       "      <td>3</td>\n",
       "      <td>605</td>\n",
       "      <td>71</td>\n",
       "      <td>0</td>\n",
       "      <td>70</td>\n",
       "      <td>48</td>\n",
       "      <td>0</td>\n",
       "      <td>41</td>\n",
       "    </tr>\n",
       "    <tr>\n",
       "      <th>pneumothorax</th>\n",
       "      <td>774</td>\n",
       "      <td>49</td>\n",
       "      <td>223</td>\n",
       "      <td>33</td>\n",
       "      <td>996</td>\n",
       "      <td>747</td>\n",
       "      <td>80</td>\n",
       "      <td>9</td>\n",
       "      <td>946</td>\n",
       "      <td>431</td>\n",
       "      <td>0</td>\n",
       "      <td>341</td>\n",
       "      <td>289</td>\n",
       "      <td>41</td>\n",
       "      <td>0</td>\n",
       "    </tr>\n",
       "  </tbody>\n",
       "</table>\n",
       "</div>"
      ],
      "text/plain": [
       "                    atelectasis  cardiomegaly  consolidation  edema  effusion  \\\n",
       "atelectasis                   0           370           1223    221      3275   \n",
       "cardiomegaly                370             0            169    127      1063   \n",
       "consolidation              1223           169              0    162      1287   \n",
       "edema                       221           127            162      0       593   \n",
       "effusion                   3275          1063           1287    593         0   \n",
       "emphysema                   424            44            103     30       359   \n",
       "fibrosis                    220            52             79      9       188   \n",
       "hernia                       40             7              4      3        21   \n",
       "infiltration               3264           587           1221    981      4000   \n",
       "mass                        739           102            610    129      1254   \n",
       "no_finding                    0             0              0      0         0   \n",
       "nodule                      590           108            428    131       912   \n",
       "pleural_thickening          496           111            251     64       849   \n",
       "pneumonia                   262            41            123    340       268   \n",
       "pneumothorax                774            49            223     33       996   \n",
       "\n",
       "                    emphysema  fibrosis  hernia  infiltration  mass  \\\n",
       "atelectasis               424       220      40          3264   739   \n",
       "cardiomegaly               44        52       7           587   102   \n",
       "consolidation             103        79       4          1221   610   \n",
       "edema                      30         9       3           981   129   \n",
       "effusion                  359       188      21          4000  1254   \n",
       "emphysema                   0        36       4           449   215   \n",
       "fibrosis                   36         0       8           345   117   \n",
       "hernia                      4         8       0            33    25   \n",
       "infiltration              449       345      33             0  1157   \n",
       "mass                      215       117      25          1157     0   \n",
       "no_finding                  0         0       0             0     0   \n",
       "nodule                    115       166      10          1546   906   \n",
       "pleural_thickening        151       176       8           750   451   \n",
       "pneumonia                  23        11       3           605    71   \n",
       "pneumothorax              747        80       9           946   431   \n",
       "\n",
       "                    no_finding  nodule  pleural_thickening  pneumonia  \\\n",
       "atelectasis                  0     590                 496        262   \n",
       "cardiomegaly                 0     108                 111         41   \n",
       "consolidation                0     428                 251        123   \n",
       "edema                        0     131                  64        340   \n",
       "effusion                     0     912                 849        268   \n",
       "emphysema                    0     115                 151         23   \n",
       "fibrosis                     0     166                 176         11   \n",
       "hernia                       0      10                   8          3   \n",
       "infiltration                 0    1546                 750        605   \n",
       "mass                         0     906                 451         71   \n",
       "no_finding                   0       0                   0          0   \n",
       "nodule                       0       0                 411         70   \n",
       "pleural_thickening           0     411                   0         48   \n",
       "pneumonia                    0      70                  48          0   \n",
       "pneumothorax                 0     341                 289         41   \n",
       "\n",
       "                    pneumothorax  \n",
       "atelectasis                  774  \n",
       "cardiomegaly                  49  \n",
       "consolidation                223  \n",
       "edema                         33  \n",
       "effusion                     996  \n",
       "emphysema                    747  \n",
       "fibrosis                      80  \n",
       "hernia                         9  \n",
       "infiltration                 946  \n",
       "mass                         431  \n",
       "no_finding                     0  \n",
       "nodule                       341  \n",
       "pleural_thickening           289  \n",
       "pneumonia                     41  \n",
       "pneumothorax                   0  "
      ]
     },
     "execution_count": 22,
     "metadata": {},
     "output_type": "execute_result"
    }
   ],
   "source": [
    "comobidity_mat = annot_df[disease_labels].T.dot(annot_df[disease_labels])\n",
    "np.fill_diagonal(comobidity_mat.values, 0)\n",
    "comobidity_mat"
   ]
  },
  {
   "cell_type": "code",
   "execution_count": 23,
   "metadata": {},
   "outputs": [
    {
     "data": {
      "text/plain": [
       "<Axes: >"
      ]
     },
     "execution_count": 23,
     "metadata": {},
     "output_type": "execute_result"
    },
    {
     "data": {
      "image/png": "[encoded data removed]",
      "text/plain": [
       "<Figure size 640x480 with 2 Axes>"
      ]
     },
     "metadata": {},
     "output_type": "display_data"
    }
   ],
   "source": [
    "sns.heatmap(comobidity_mat, robust=True)"
   ]
  },
  {
   "cell_type": "code",
   "execution_count": 24,
   "metadata": {},
   "outputs": [
    {
     "data": {
      "text/plain": [
       "infiltration          42.31\n",
       "edema                 23.78\n",
       "effusion              18.74\n",
       "atelectasis           18.32\n",
       "consolidation          8.60\n",
       "mass                   4.97\n",
       "nodule                 4.90\n",
       "pleural_thickening     3.36\n",
       "cardiomegaly           2.87\n",
       "pneumothorax           2.87\n",
       "emphysema              1.61\n",
       "fibrosis               0.77\n",
       "hernia                 0.21\n",
       "no_finding             0.00\n",
       "pneumonia              0.00\n",
       "Name: pneumonia, dtype: float64"
      ]
     },
     "execution_count": 24,
     "metadata": {},
     "output_type": "execute_result"
    }
   ],
   "source": [
    "((comobidity_mat[\"pneumonia\"] / annot_df[\"pneumonia\"].sum()) * 100).round(\n",
    "    2\n",
    ").sort_values(ascending=False)"
   ]
  },
  {
   "attachments": {},
   "cell_type": "markdown",
   "metadata": {},
   "source": [
    "Above shows the most common comorbid diseases with pneumonia: infiltration, edema, effusion, etc. The percentages show how many pneumonia cases were also labelled as another disease. Again, infiltration was the most common, appearing in 42% of pneumonia cases."
   ]
  },
  {
   "attachments": {},
   "cell_type": "markdown",
   "metadata": {},
   "source": [
    "## 3. Exploration of image pixel data"
   ]
  },
  {
   "attachments": {},
   "cell_type": "markdown",
   "metadata": {},
   "source": [
    "### Healthy patients (no disease detected)"
   ]
  },
  {
   "cell_type": "code",
   "execution_count": 25,
   "metadata": {},
   "outputs": [],
   "source": [
    "healthy_images = (\n",
    "    annot_df[annot_df[\"no_finding\"] == 1]\n",
    "    .sample(100, random_state=random_seed)[\"image_name\"]\n",
    "    .tolist()\n",
    ")\n",
    "healthy_images_files = [\n",
    "    img_file\n",
    "    for img_file in xray_images_root.glob(\"**/*.png\")\n",
    "    if img_file.name in healthy_images\n",
    "]"
   ]
  },
  {
   "cell_type": "code",
   "execution_count": 38,
   "metadata": {},
   "outputs": [
    {
     "data": {
      "text/plain": [
       "<matplotlib.image.AxesImage at 0x7f739da2bb90>"
      ]
     },
     "execution_count": 38,
     "metadata": {},
     "output_type": "execute_result"
    },
    {
     "data": {
      "image/png": "[encoded data removed]",
      "text/plain": [
       "<Figure size 640x480 with 1 Axes>"
      ]
     },
     "metadata": {},
     "output_type": "display_data"
    }
   ],
   "source": [
    "avg_healthy_image = np.mean(\n",
    "    [np.array(Image.open(img_file).convert('L')) for img_file in healthy_images_files], axis=0\n",
    ")\n",
    "plt.imshow(avg_healthy_image, cmap=\"gray\", vmin=0, vmax=255)"
   ]
  },
  {
   "attachments": {},
   "cell_type": "markdown",
   "metadata": {},
   "source": [
    "While we can observe blurred edges and cavities probably due to sligh differences in patients, overall the lung area looks clear in healthy patients."
   ]
  },
  {
   "attachments": {},
   "cell_type": "markdown",
   "metadata": {},
   "source": [
    "### Pneumonia patients"
   ]
  },
  {
   "cell_type": "code",
   "execution_count": 27,
   "metadata": {},
   "outputs": [],
   "source": [
    "pneumonia_images = (\n",
    "    annot_df[annot_df[\"pneumonia\"] == 1]\n",
    "    .sample(100, random_state=random_seed)[\"image_name\"]\n",
    "    .tolist()\n",
    ")\n",
    "pneumonia_images_files = [\n",
    "    img_file\n",
    "    for img_file in xray_images_root.glob(\"**/*.png\")\n",
    "    if img_file.name in pneumonia_images\n",
    "]"
   ]
  },
  {
   "cell_type": "code",
   "execution_count": 39,
   "metadata": {},
   "outputs": [
    {
     "data": {
      "text/plain": [
       "<matplotlib.image.AxesImage at 0x7f739044a610>"
      ]
     },
     "execution_count": 39,
     "metadata": {},
     "output_type": "execute_result"
    },
    {
     "data": {
      "image/png": "[encoded data removed]",
      "text/plain": [
       "<Figure size 640x480 with 1 Axes>"
      ]
     },
     "metadata": {},
     "output_type": "display_data"
    }
   ],
   "source": [
    "avg_pneumonia_image = np.mean(\n",
    "    [np.array(Image.open(img_file).convert('L')) for img_file in pneumonia_images_files], axis=0\n",
    ")\n",
    "plt.imshow(avg_pneumonia_image, cmap=\"gray\", vmin=0, vmax=255)"
   ]
  },
  {
   "attachments": {},
   "cell_type": "markdown",
   "metadata": {},
   "source": [
    "Compared to healthy patients, we can see that the lung area is significantly more opaque. This suggests that on average, pneumonia patients show white spots in their lungs, as expected."
   ]
  },
  {
   "attachments": {},
   "cell_type": "markdown",
   "metadata": {},
   "source": [
    "## 4. Summary and conclusions"
   ]
  },
  {
   "cell_type": "code",
   "execution_count": 41,
   "metadata": {},
   "outputs": [],
   "source": [
    "annot_df.to_csv(data_root.joinpath(\"processed_annotations.csv\"), index=False)"
   ]
  },
  {
   "attachments": {},
   "cell_type": "markdown",
   "metadata": {},
   "source": [
    "Given the exploratory data analysis above, we will be using the processed sample annotations to train a classifier machine learning model to output a probability of whether pneumonia is present or absent in a given x-ray image.\n",
    "\n",
    "We should ensure that patients are separated into training and validation sets to avoid data leakage. Moreover, other metadata such as gender and age should also be equally distributed in each set."
   ]
  },
  {
   "cell_type": "markdown",
   "metadata": {},
   "source": []
  }
 ],
 "metadata": {
  "kernelspec": {
   "display_name": "penumonia_detection",
   "language": "python",
   "name": "python3"
  },
  "language_info": {
   "codemirror_mode": {
    "name": "ipython",
    "version": 3
   },
   "file_extension": ".py",
   "mimetype": "text/x-python",
   "name": "python",
   "nbconvert_exporter": "python",
   "pygments_lexer": "ipython3",
   "version": "3.11.0"
  },
  "vscode": {
   "interpreter": {
    "hash": "e5e89c2dba0891c091c7b7448c14a29b5352f8c3493df3e31a7175706b270a92"
   }
  }
 },
 "nbformat": 4,
 "nbformat_minor": 2
}
