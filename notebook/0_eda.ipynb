{
 "cells": [
  {
   "attachments": {},
   "cell_type": "markdown",
   "metadata": {},
   "source": [
    "# Exploratory Data Analysis (EDA)"
   ]
  },
  {
   "attachments": {},
   "cell_type": "markdown",
   "metadata": {},
   "source": [
    "### Imports"
   ]
  },
  {
   "cell_type": "code",
   "execution_count": null,
   "metadata": {},
   "outputs": [],
   "source": [
    "import numpy as np\n",
    "import pandas as pd\n",
    "\n",
    "%matplotlib inline\n",
    "import matplotlib.pyplot as plt\n",
    "import seaborn as sns\n",
    "from pathlib import Path\n",
    "from PIL import Image"
   ]
  },
  {
   "cell_type": "code",
   "execution_count": null,
   "metadata": {},
   "outputs": [],
   "source": [
    "random_seed: int = 8080\n",
    "data_root: Path = Path(\"../data\")\n",
    "xray_images_root: Path = Path(\"/home/uziel/Downloads/nih_chest_x_rays\")"
   ]
  },
  {
   "attachments": {},
   "cell_type": "markdown",
   "metadata": {},
   "source": [
    "## 1. Data Loading"
   ]
  },
  {
   "attachments": {},
   "cell_type": "markdown",
   "metadata": {},
   "source": [
    "### 1.1. Load samples annotation"
   ]
  },
  {
   "cell_type": "code",
   "execution_count": null,
   "metadata": {},
   "outputs": [],
   "source": [
    "annot_df = pd.read_csv(data_root.joinpath(\"samples_annotation_2017.csv\"))\n",
    "annot_df"
   ]
  },
  {
   "attachments": {},
   "cell_type": "markdown",
   "metadata": {},
   "source": [
    "The column `labels` contains all the disease annotations."
   ]
  },
  {
   "attachments": {},
   "cell_type": "markdown",
   "metadata": {},
   "source": [
    "### 1.2. Replace `labels` column with dummy variables"
   ]
  },
  {
   "cell_type": "code",
   "execution_count": null,
   "metadata": {},
   "outputs": [],
   "source": [
    "labels_dummies = annot_df[\"labels\"].str.get_dummies(\"|\")\n",
    "labels_dummies.columns = [c.replace(\" \", \"_\").lower() for c in labels_dummies]"
   ]
  },
  {
   "cell_type": "code",
   "execution_count": null,
   "metadata": {},
   "outputs": [],
   "source": [
    "annot_df = annot_df.join(labels_dummies).drop(columns=[\"labels\"])\n",
    "annot_df"
   ]
  },
  {
   "attachments": {},
   "cell_type": "markdown",
   "metadata": {},
   "source": [
    "## 2. Exploration of patients metadata"
   ]
  },
  {
   "attachments": {},
   "cell_type": "markdown",
   "metadata": {},
   "source": [
    "### Missing values"
   ]
  },
  {
   "cell_type": "code",
   "execution_count": null,
   "metadata": {},
   "outputs": [],
   "source": [
    "annot_df.isna().sum()"
   ]
  },
  {
   "attachments": {},
   "cell_type": "markdown",
   "metadata": {},
   "source": [
    "No missing values in our data."
   ]
  },
  {
   "attachments": {},
   "cell_type": "markdown",
   "metadata": {},
   "source": [
    "### Patient information"
   ]
  },
  {
   "cell_type": "code",
   "execution_count": null,
   "metadata": {},
   "outputs": [],
   "source": [
    "annot_df.nunique()"
   ]
  },
  {
   "cell_type": "code",
   "execution_count": null,
   "metadata": {},
   "outputs": [],
   "source": [
    "annot_df.groupby(\"patient_id\")[\"image_name\"].count().mean()"
   ]
  },
  {
   "attachments": {},
   "cell_type": "markdown",
   "metadata": {},
   "source": [
    "We have information for 30,805 patients, with an average of 3 to 4 images available per patient."
   ]
  },
  {
   "cell_type": "code",
   "execution_count": null,
   "metadata": {},
   "outputs": [],
   "source": [
    "patient_had_pneumonia = annot_df.groupby(\"patient_id\")[\"pneumonia\"].sum().astype(bool)\n",
    "patient_had_pneumonia"
   ]
  },
  {
   "cell_type": "code",
   "execution_count": null,
   "metadata": {},
   "outputs": [],
   "source": [
    "patient_had_pneumonia.sum() / len(patient_had_pneumonia)"
   ]
  },
  {
   "attachments": {},
   "cell_type": "markdown",
   "metadata": {},
   "source": [
    "Around 3% of all patients have had pneumonia."
   ]
  },
  {
   "attachments": {},
   "cell_type": "markdown",
   "metadata": {},
   "source": [
    "### Disease Labels"
   ]
  },
  {
   "cell_type": "code",
   "execution_count": null,
   "metadata": {},
   "outputs": [],
   "source": [
    "disease_labels = labels_dummies.columns\n",
    "\n",
    "print(\n",
    "    f\"There are up to {len(disease_labels)} possible disease labels \"\n",
    "    f\"(including no finding) annotated in each image:\"\n",
    ")\n",
    "print(\"\\n\\t- \" + \"\\n\\t- \".join(disease_labels))"
   ]
  },
  {
   "attachments": {},
   "cell_type": "markdown",
   "metadata": {},
   "source": [
    "#### How many annotations per disease?"
   ]
  },
  {
   "cell_type": "code",
   "execution_count": null,
   "metadata": {},
   "outputs": [],
   "source": [
    "labels_dummies.sum().sort_values(ascending=False)"
   ]
  },
  {
   "attachments": {},
   "cell_type": "markdown",
   "metadata": {},
   "source": [
    "It can be clearly seen that pneumonia is the second least common labelled disease in our dataset."
   ]
  },
  {
   "attachments": {},
   "cell_type": "markdown",
   "metadata": {},
   "source": [
    "### Gender distribution among patients with and without pneumonia"
   ]
  },
  {
   "cell_type": "code",
   "execution_count": null,
   "metadata": {},
   "outputs": [],
   "source": [
    "annot_df[\"patient_gender\"].value_counts(normalize=True)"
   ]
  },
  {
   "attachments": {},
   "cell_type": "markdown",
   "metadata": {},
   "source": [
    "We have data from more males than females, but it's not terribly imbalanced."
   ]
  },
  {
   "attachments": {},
   "cell_type": "markdown",
   "metadata": {},
   "source": [
    "### Age distribution among patients with and without pneumonia"
   ]
  },
  {
   "cell_type": "code",
   "execution_count": null,
   "metadata": {},
   "outputs": [],
   "source": [
    "annot_df[\"patient_age\"].plot(kind=\"hist\")"
   ]
  },
  {
   "cell_type": "code",
   "execution_count": null,
   "metadata": {},
   "outputs": [],
   "source": [
    "annot_df[annot_df[\"patient_age\"] > 100][\"patient_age\"].tolist()"
   ]
  },
  {
   "attachments": {},
   "cell_type": "markdown",
   "metadata": {},
   "source": [
    "There seems to be some extreme values, probably due to human error. Since they are only a few, we remove them."
   ]
  },
  {
   "cell_type": "code",
   "execution_count": null,
   "metadata": {},
   "outputs": [],
   "source": [
    "annot_df = annot_df[annot_df[\"patient_age\"] < 100]"
   ]
  },
  {
   "attachments": {},
   "cell_type": "markdown",
   "metadata": {},
   "source": [
    "Now we look at the age distribution across patients with and without pneumonia:"
   ]
  },
  {
   "cell_type": "code",
   "execution_count": null,
   "metadata": {},
   "outputs": [],
   "source": [
    "sns.catplot(\n",
    "    annot_df,\n",
    "    y=\"patient_age\",\n",
    "    x=\"pneumonia\",\n",
    "    hue=\"patient_gender\",\n",
    "    bw=0.25,\n",
    "    cut=0,\n",
    "    split=True,\n",
    "    kind=\"violin\",\n",
    ")"
   ]
  },
  {
   "attachments": {},
   "cell_type": "markdown",
   "metadata": {},
   "source": [
    "Let's look at the quantile distribution:"
   ]
  },
  {
   "cell_type": "code",
   "execution_count": null,
   "metadata": {},
   "outputs": [],
   "source": [
    "pneumonia_quantiles = pd.Series(\n",
    "    {\n",
    "        f\"{q*100:.0f}%\": annot_df[annot_df[\"pneumonia\"].astype(bool)][\n",
    "            \"patient_age\"\n",
    "        ].quantile(q)\n",
    "        for q in np.arange(0.1, 1, 0.1)\n",
    "    }\n",
    ")\n",
    "pneumonia_quantiles"
   ]
  },
  {
   "attachments": {},
   "cell_type": "markdown",
   "metadata": {},
   "source": [
    "It seems that most patients (80%) with pneumonia are between the early 20s and the mid 60s. We can expect our algorithm to perform better in this demographic. Outside of it, our model is expected to perform worse. Patients under the age of 20 are likely still growing and thus the size and shape of their chest cavity is likely different, which could impact the performance of the final algorithm. Similarly, the older patients are more likely to suffer from multiple diseases simultanously, making it harder to distinguish between pneumonia and any other disease."
   ]
  },
  {
   "attachments": {},
   "cell_type": "markdown",
   "metadata": {},
   "source": [
    "### View Position distribution among patients with and without pneumonia"
   ]
  },
  {
   "cell_type": "code",
   "execution_count": null,
   "metadata": {},
   "outputs": [],
   "source": [
    "annot_df[\"view_position\"].value_counts(normalize=True)"
   ]
  },
  {
   "attachments": {},
   "cell_type": "markdown",
   "metadata": {},
   "source": [
    "Our dataset contains both posterior-anterior (PA) and anterior-posterior (AP) projections.\n",
    "\n",
    "- **PA projection**: The standard chest radiograph is acquired with the patient standing up, and with the X-ray beam passing through the patient from Posterior to Anterior. The chest X-ray image produced is viewed as if looking at the patient from the front, face-to-face. The heart is on the right side of the image as you look at it.\n",
    "- **AP projection**: Sometimes it is not possible for radiographers to acquire a PA chest X-ray. This is usually because the patient is too unwell to stand. The chest X-ray image is still viewed as if looking at the patient face-to-face.\n",
    "\n",
    "Source and more information on [Radiology Masterclass](https://www.radiologymasterclass.co.uk/tutorials/chest/chest_quality/chest_xray_quality_projection)."
   ]
  },
  {
   "cell_type": "code",
   "execution_count": null,
   "metadata": {},
   "outputs": [],
   "source": [
    "sns.histplot(\n",
    "    annot_df.astype({\"pneumonia\": str}),\n",
    "    x=\"pneumonia\",\n",
    "    hue=\"view_position\",\n",
    "    stat=\"percent\",\n",
    "    multiple=\"fill\",\n",
    ")"
   ]
  },
  {
   "cell_type": "code",
   "execution_count": null,
   "metadata": {},
   "outputs": [],
   "source": [
    "view_positions_with = (\n",
    "    annot_df[annot_df[\"pneumonia\"] == 1][\"view_position\"]\n",
    "    .value_counts(normalize=True)\n",
    "    .rename(\"Pneumonia presence\")\n",
    ")\n",
    "view_positions_without = (\n",
    "    annot_df[annot_df[\"pneumonia\"] == 0][\"view_position\"]\n",
    "    .value_counts(normalize=True)\n",
    "    .rename(\"Pneumonia abscence\")\n",
    ")\n",
    "pd.concat(\n",
    "    [\n",
    "        view_positions_with,\n",
    "        view_positions_without,\n",
    "        abs(view_positions_without - view_positions_with).rename(\"Difference\"),\n",
    "    ],\n",
    "    axis=1,\n",
    ")"
   ]
  },
  {
   "attachments": {},
   "cell_type": "markdown",
   "metadata": {},
   "source": [
    "Since the main difference between AP and PA is heart size, this shouldn't affect our ability to detect pneumonia. Therefore, we expect this 16% difference to have no impact on final model performance."
   ]
  },
  {
   "attachments": {},
   "cell_type": "markdown",
   "metadata": {},
   "source": [
    "### Disease comorbidity"
   ]
  },
  {
   "cell_type": "code",
   "execution_count": null,
   "metadata": {},
   "outputs": [],
   "source": [
    "comobidity_mat = annot_df[disease_labels].T.dot(annot_df[disease_labels])\n",
    "np.fill_diagonal(comobidity_mat.values, 0)\n",
    "comobidity_mat"
   ]
  },
  {
   "cell_type": "code",
   "execution_count": null,
   "metadata": {},
   "outputs": [],
   "source": [
    "sns.heatmap(comobidity_mat, robust=True)"
   ]
  },
  {
   "cell_type": "code",
   "execution_count": null,
   "metadata": {},
   "outputs": [],
   "source": [
    "((comobidity_mat[\"pneumonia\"] / annot_df[\"pneumonia\"].sum()) * 100).round(\n",
    "    2\n",
    ").sort_values(ascending=False)"
   ]
  },
  {
   "attachments": {},
   "cell_type": "markdown",
   "metadata": {},
   "source": [
    "Above shows the most common comorbid diseases with pneumonia: infiltration, edema, effusion, etc. The percentages show how many pneumonia cases were also labelled as another disease. Again, infiltration was the most common, appearing in 42% of pneumonia cases."
   ]
  },
  {
   "attachments": {},
   "cell_type": "markdown",
   "metadata": {},
   "source": [
    "## 3. Exploration of image pixel data"
   ]
  },
  {
   "attachments": {},
   "cell_type": "markdown",
   "metadata": {},
   "source": [
    "### Healthy patients (no disease detected)"
   ]
  },
  {
   "cell_type": "code",
   "execution_count": null,
   "metadata": {},
   "outputs": [],
   "source": [
    "healthy_images = (\n",
    "    annot_df[annot_df[\"no_finding\"] == 1]\n",
    "    .sample(100, random_state=random_seed)[\"image_name\"]\n",
    "    .tolist()\n",
    ")\n",
    "healthy_images_files = [\n",
    "    img_file\n",
    "    for img_file in xray_images_root.glob(\"**/*.png\")\n",
    "    if img_file.name in healthy_images\n",
    "]"
   ]
  },
  {
   "cell_type": "code",
   "execution_count": null,
   "metadata": {},
   "outputs": [],
   "source": [
    "avg_healthy_image = np.mean(\n",
    "    [np.array(Image.open(img_file).convert(\"L\")) for img_file in healthy_images_files],\n",
    "    axis=0,\n",
    ")\n",
    "plt.imshow(avg_healthy_image, cmap=\"gray\", vmin=0, vmax=255)"
   ]
  },
  {
   "attachments": {},
   "cell_type": "markdown",
   "metadata": {},
   "source": [
    "While we can observe blurred edges and cavities probably due to sligh differences in patients, overall the lung area looks clear in healthy patients."
   ]
  },
  {
   "attachments": {},
   "cell_type": "markdown",
   "metadata": {},
   "source": [
    "### Pneumonia patients"
   ]
  },
  {
   "cell_type": "code",
   "execution_count": null,
   "metadata": {},
   "outputs": [],
   "source": [
    "pneumonia_images = (\n",
    "    annot_df[annot_df[\"pneumonia\"] == 1]\n",
    "    .sample(100, random_state=random_seed)[\"image_name\"]\n",
    "    .tolist()\n",
    ")\n",
    "pneumonia_images_files = [\n",
    "    img_file\n",
    "    for img_file in xray_images_root.glob(\"**/*.png\")\n",
    "    if img_file.name in pneumonia_images\n",
    "]"
   ]
  },
  {
   "cell_type": "code",
   "execution_count": null,
   "metadata": {},
   "outputs": [],
   "source": [
    "avg_pneumonia_image = np.mean(\n",
    "    [\n",
    "        np.array(Image.open(img_file).convert(\"L\"))\n",
    "        for img_file in pneumonia_images_files\n",
    "    ],\n",
    "    axis=0,\n",
    ")\n",
    "plt.imshow(avg_pneumonia_image, cmap=\"gray\", vmin=0, vmax=255)"
   ]
  },
  {
   "attachments": {},
   "cell_type": "markdown",
   "metadata": {},
   "source": [
    "Compared to healthy patients, we can see that the lung area is significantly more opaque. This suggests that on average, pneumonia patients show white spots in their lungs, as expected."
   ]
  },
  {
   "attachments": {},
   "cell_type": "markdown",
   "metadata": {},
   "source": [
    "## 4. Summary and conclusions"
   ]
  },
  {
   "cell_type": "code",
   "execution_count": null,
   "metadata": {},
   "outputs": [],
   "source": [
    "annot_df.to_csv(data_root.joinpath(\"processed_annotations.csv\"), index=False)"
   ]
  },
  {
   "attachments": {},
   "cell_type": "markdown",
   "metadata": {},
   "source": [
    "Given the exploratory data analysis above, we will be using the processed sample annotations to train a classifier machine learning model to output a probability of whether pneumonia is present or absent in a given x-ray image.\n",
    "\n",
    "We should ensure that patients are separated into training and validation sets to avoid data leakage. Moreover, other metadata such as gender and age should also be equally distributed in each set."
   ]
  },
  {
   "cell_type": "markdown",
   "metadata": {},
   "source": []
  }
 ],
 "metadata": {
  "kernelspec": {
   "display_name": "penumonia_detection",
   "language": "python",
   "name": "python3"
  },
  "language_info": {
   "codemirror_mode": {
    "name": "ipython",
    "version": 3
   },
   "file_extension": ".py",
   "mimetype": "text/x-python",
   "name": "python",
   "nbconvert_exporter": "python",
   "pygments_lexer": "ipython3",
   "version": "3.10.9"
  },
  "vscode": {
   "interpreter": {
    "hash": "e5e89c2dba0891c091c7b7448c14a29b5352f8c3493df3e31a7175706b270a92"
   }
  }
 },
 "nbformat": 4,
 "nbformat_minor": 2
}
